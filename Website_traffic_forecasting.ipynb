{
  "nbformat": 4,
  "nbformat_minor": 0,
  "metadata": {
    "colab": {
      "name": "Website traffic forecasting.ipynb",
      "provenance": [],
      "authorship_tag": "ABX9TyN4b4Q7U97bEqJK1WgzSlF9"
    },
    "kernelspec": {
      "name": "python3",
      "display_name": "Python 3"
    },
    "language_info": {
      "name": "python"
    }
  },
  "cells": [
    {
      "cell_type": "markdown",
      "source": [
        "# Importing libraries"
      ],
      "metadata": {
        "id": "9mckOoEgW3xp"
      }
    },
    {
      "cell_type": "code",
      "execution_count": 1,
      "metadata": {
        "id": "IoB78wcq-0Ok",
        "colab": {
          "base_uri": "https://localhost:8080/"
        },
        "outputId": "983bee40-58b3-4e07-df3f-ea52b56232c7"
      },
      "outputs": [
        {
          "output_type": "stream",
          "name": "stderr",
          "text": [
            "/usr/local/lib/python3.7/dist-packages/statsmodels/tools/_testing.py:19: FutureWarning: pandas.util.testing is deprecated. Use the functions in the public API at pandas.testing instead.\n",
            "  import pandas.util.testing as tm\n"
          ]
        }
      ],
      "source": [
        "import pandas as pd\n",
        "import numpy as np\n",
        "import matplotlib.pyplot as plt\n",
        "import plotly.express as px\n",
        "import plotly.graph_objects as go\n",
        "from statsmodels.tsa.seasonal import seasonal_decompose\n",
        "from statsmodels.graphics.tsaplots import plot_pacf\n",
        "from statsmodels.tsa.arima_model import ARIMA\n",
        "import statsmodels.api as sm"
      ]
    },
    {
      "cell_type": "markdown",
      "source": [
        "# Dataset 1"
      ],
      "metadata": {
        "id": "amZVwibYXA4U"
      }
    },
    {
      "cell_type": "code",
      "source": [
        "#Reading the dataset\n",
        "\n",
        "df = pd.read_csv('https://raw.githubusercontent.com/amankharwal/Website-data/master/Thecleverprogrammer.csv')\n",
        "print(df.head())"
      ],
      "metadata": {
        "colab": {
          "base_uri": "https://localhost:8080/"
        },
        "id": "p5xgDCq8Upl9",
        "outputId": "9ffa5e12-3b3a-4110-daaa-f141f93514f7"
      },
      "execution_count": 4,
      "outputs": [
        {
          "output_type": "stream",
          "name": "stdout",
          "text": [
            "         Date  Views\n",
            "0  01/06/2021   7831\n",
            "1  02/06/2021   7798\n",
            "2  03/06/2021   7401\n",
            "3  04/06/2021   7054\n",
            "4  05/06/2021   7973\n"
          ]
        }
      ]
    },
    {
      "cell_type": "markdown",
      "source": [
        "# Dataset 2"
      ],
      "metadata": {
        "id": "i0DyaNLpXFGa"
      }
    },
    {
      "cell_type": "code",
      "source": [
        "data = pd.read_csv('https://github.com/prathyuma-08/OnboardingAppUI/files/9331501/website-traffic.csv')\n",
        "print(data.head())"
      ],
      "metadata": {
        "colab": {
          "base_uri": "https://localhost:8080/"
        },
        "id": "C27PG15oWwGU",
        "outputId": "6abe7912-964d-4a7d-806e-c82e6a2f6d32"
      },
      "execution_count": 5,
      "outputs": [
        {
          "output_type": "stream",
          "name": "stdout",
          "text": [
            "   DayOfWeek MonthDay  Year  Visits\n",
            "0     Monday   June 1  2009      27\n",
            "1    Tuesday   June 2  2009      31\n",
            "2  Wednesday   June 3  2009      38\n",
            "3   Thursday   June 4  2009      38\n",
            "4     Friday   June 5  2009      31\n"
          ]
        }
      ]
    }
  ]
}